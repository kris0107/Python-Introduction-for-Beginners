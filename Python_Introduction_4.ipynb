{
 "cells": [
  {
   "cell_type": "markdown",
   "metadata": {},
   "source": [
    "## Table of Content\n",
    "\n",
    "1. **[Built-in Functions](#builtin)**\n",
    "\n",
    "2. **[User Defined Functions](#user)**\n",
    "    - 2.1 - **[User defined functions without arguments](#without_arg)**\n",
    "    - 2.2 - **[User defined functions with arguments](#with_arg)**\n",
    "\n",
    "3. **[Lambda Functions](#lambda)**\n",
    "\n",
    "4. **[Overview of map, reduce and filter functions](#overview)**\n",
    "    - 5.1 - [Function map()](#map)\n",
    "    - 5.2 - [Function filter()](#filter)\n",
    "    - 5.3 - [Function reduce()](#reduce)\n",
    "\n",
    "\n",
    "\n"
   ]
  },
  {
   "cell_type": "markdown",
   "metadata": {},
   "source": [
    "<a id=\"builtin\"> </a>\n",
    "## 1. Built-in Functions"
   ]
  },
  {
   "cell_type": "markdown",
   "metadata": {},
   "source": [
    "Some exapmles are: \n",
    "\n",
    "<table border=\"2\">\n",
    "<tr>\n",
    "<th> Function </th>\n",
    "<th> Description </th>\n",
    "</tr>\n",
    "<tr>\n",
    "<th> abs()</th>\n",
    "<th> It gives the absolute of a numeric value </th>\n",
    "<tr>\n",
    "<tr>\n",
    "<th> sum()</th>\n",
    "<th> It gives the sum of a numeric values values </th>\n",
    "<tr>\n",
    "<tr>\n",
    "<th> len()</th>\n",
    "<th> It gives the sum of a numeric values values </th>\n",
    "<tr>   \n",
    "<tr>\n",
    "<th> apply()</th>\n",
    "<th> applied both to series and dataframes where function can be applied both series and individual elements based on the type of function provide </th>\n",
    "<tr> \n",
    "<tr>\n",
    "<th> map()</th>\n",
    "<th> only works on a pandas series where type of operation to be applied depends on argument passed as a function, dictionary or a list </th>\n",
    "<tr>         \n",
    "</table>    \n"
   ]
  },
  {
   "cell_type": "markdown",
   "metadata": {},
   "source": [
    "<a id=\"user\"> </a>\n",
    "## 2. User Defined Functions"
   ]
  },
  {
   "cell_type": "markdown",
   "metadata": {},
   "source": [
    "There are situations where in built functions are not availabe in a library. In such cases, we do the computations by using formulas/concepts"
   ]
  },
  {
   "cell_type": "markdown",
   "metadata": {},
   "source": [
    "Consider the following user defined function:"
   ]
  },
  {
   "cell_type": "raw",
   "metadata": {},
   "source": [
    "def fun(params):\n",
    "    statement 1\n",
    "    statement 2\n",
    "        .\n",
    "        .\n",
    "        .\n",
    "        "
   ]
  },
  {
   "cell_type": "markdown",
   "metadata": {},
   "source": [
    "<a id=\"without_arg\"> </a>\n",
    "## 2.1 User defined functions without arguments"
   ]
  },
  {
   "cell_type": "markdown",
   "metadata": {},
   "source": [
    "Once a function is defined, it can be called anytime, without running the function again. Generally, a function returns a value or prints a value.  \n",
    "\n",
    "Let us see a few examples of user defined functions."
   ]
  },
  {
   "cell_type": "markdown",
   "metadata": {},
   "source": [
    "**1. We shall write a user defined function without argument to find the twice of a number.**"
   ]
  },
  {
   "cell_type": "code",
   "execution_count": 1,
   "metadata": {},
   "outputs": [],
   "source": [
    "# In this function, we are passing an argument\n",
    "def twice(a):\n",
    "    print(a*2)"
   ]
  },
  {
   "cell_type": "code",
   "execution_count": 2,
   "metadata": {},
   "outputs": [
    {
     "name": "stdout",
     "output_type": "stream",
     "text": [
      "6\n"
     ]
    }
   ],
   "source": [
    "twice(3)"
   ]
  },
  {
   "cell_type": "code",
   "execution_count": 3,
   "metadata": {},
   "outputs": [],
   "source": [
    "def twice():\n",
    "    a = int(input('enter a number: '))\n",
    "    print(a*2)"
   ]
  },
  {
   "cell_type": "code",
   "execution_count": 4,
   "metadata": {},
   "outputs": [
    {
     "name": "stdout",
     "output_type": "stream",
     "text": [
      "enter a number: 26\n",
      "52\n"
     ]
    }
   ],
   "source": [
    "# In this function, no argument is passed\n",
    "# call the function\n",
    "twice()"
   ]
  },
  {
   "cell_type": "markdown",
   "metadata": {},
   "source": [
    "<a id=\"with_arg\"> </a>\n",
    "## 2.2 User defined functions with arguments"
   ]
  },
  {
   "cell_type": "markdown",
   "metadata": {},
   "source": [
    "Most of the function will either `return` a value or `print` an output. Take a note of this in the examples considered below."
   ]
  },
  {
   "cell_type": "markdown",
   "metadata": {},
   "source": [
    "**1. A user defined function to get the average of all numbers in a sequence.**"
   ]
  },
  {
   "cell_type": "code",
   "execution_count": 5,
   "metadata": {},
   "outputs": [],
   "source": [
    "def average(x):\n",
    "    count = 0\n",
    "    total = 0\n",
    "    for i in x:\n",
    "        count += 1\n",
    "        total += i\n",
    "    avg = total/count\n",
    "    return avg"
   ]
  },
  {
   "cell_type": "code",
   "execution_count": 6,
   "metadata": {},
   "outputs": [],
   "source": [
    "x = [44, 45, -56, 44, 32,-54, 44, 56, 44, 87, 44, 56]"
   ]
  },
  {
   "cell_type": "code",
   "execution_count": 7,
   "metadata": {},
   "outputs": [
    {
     "data": {
      "text/plain": [
       "32.166666666666664"
      ]
     },
     "execution_count": 7,
     "metadata": {},
     "output_type": "execute_result"
    }
   ],
   "source": [
    "# call the function   \n",
    "average(x)"
   ]
  },
  {
   "cell_type": "markdown",
   "metadata": {},
   "source": [
    "The average of the number is 32.1667"
   ]
  },
  {
   "cell_type": "markdown",
   "metadata": {},
   "source": [
    "If the function requires an argument to be passed and we do not provide it, then an error with be shown."
   ]
  },
  {
   "cell_type": "markdown",
   "metadata": {},
   "source": [
    "### `*args`"
   ]
  },
  {
   "cell_type": "markdown",
   "metadata": {},
   "source": [
    "- *args in function definitions in python is used to pass n number of non-keyword arguments to a function i.e. there is no need to define the number of arguments at the time of creating the function. \n",
    "\n",
    "- Syntax: Use the symbol * to take in n number of arguments. It is often used with the word 'args', however we can use any other  word. \n",
    "\n",
    "- For example : we want to make a multiply function that takes any number of arguments and able to multiply them all together. It can be done using *args."
   ]
  },
  {
   "cell_type": "code",
   "execution_count": 8,
   "metadata": {},
   "outputs": [],
   "source": [
    "def multiply(*args):\n",
    "    product=1\n",
    "    for i in args: \n",
    "        product*=i\n",
    "    return product"
   ]
  },
  {
   "cell_type": "code",
   "execution_count": 9,
   "metadata": {},
   "outputs": [
    {
     "data": {
      "text/plain": [
       "30"
      ]
     },
     "execution_count": 9,
     "metadata": {},
     "output_type": "execute_result"
    }
   ],
   "source": [
    "multiply(3,2,5)"
   ]
  },
  {
   "cell_type": "code",
   "execution_count": 10,
   "metadata": {},
   "outputs": [],
   "source": [
    "# you can call *args by any other name\n",
    "def cross(*apple):\n",
    "    product = 1\n",
    "    for i in apple:\n",
    "        product*=i\n",
    "    return product"
   ]
  },
  {
   "cell_type": "code",
   "execution_count": 11,
   "metadata": {},
   "outputs": [
    {
     "data": {
      "text/plain": [
       "48"
      ]
     },
     "execution_count": 11,
     "metadata": {},
     "output_type": "execute_result"
    }
   ],
   "source": [
    "cross(3,2,4,2)"
   ]
  },
  {
   "cell_type": "markdown",
   "metadata": {},
   "source": [
    "### ` **kwargs`"
   ]
  },
  {
   "cell_type": "markdown",
   "metadata": {},
   "source": [
    "- A `keyword argument` is where you provide a name to the variable as you pass it into the function. For example, func('Sex'=Female) \n",
    "- The special syntax `**kwargs` in function definitions in python is used to pass a keyworded, variable-length argument list. We use the name kwargs with the double star. The reason is because the double star allows us to pass through keyword arguments (and any number of them). We can use any other name instead of kwargs. \n",
    "- One can think of the kwargs as being a dictionary with a key-value pair that maps each keyword to the value that we pass alongside it."
   ]
  },
  {
   "cell_type": "code",
   "execution_count": 12,
   "metadata": {},
   "outputs": [],
   "source": [
    "def function(**kwargs):\n",
    "    for a,b in kwargs.items():\n",
    "        print(a,\"==\",b)"
   ]
  },
  {
   "cell_type": "code",
   "execution_count": 13,
   "metadata": {},
   "outputs": [
    {
     "name": "stdout",
     "output_type": "stream",
     "text": [
      "A == First letter\n",
      "B == Second letter\n",
      "C == Third letter\n"
     ]
    }
   ],
   "source": [
    "# call the function\n",
    "a=function(A = \"First letter\", B = \"Second letter\", C = \"Third letter\")"
   ]
  },
  {
   "cell_type": "markdown",
   "metadata": {},
   "source": [
    "    "
   ]
  },
  {
   "cell_type": "markdown",
   "metadata": {},
   "source": [
    "Remember, while using **args** and **kwargs** with the normal parameters, order of the arguments matters. First **normal arguments** then **args** then **kwargs**"
   ]
  },
  {
   "cell_type": "markdown",
   "metadata": {},
   "source": [
    "<a id = 'lambda' > </a>\n",
    "## 3. Lambda Functions\n",
    "\n",
    "Lambda functions are a concise and convenient way to define small, anonymous functions in Python. They are often used as a way to create function objects on the fly, without having to define a separate named function.\n",
    "\n",
    "One of the main use cases for lambda functions is in higher-order functions. Since a higher-order function takes a function as an argument, a lambda function can be defined on the spot and passed as an argument to the higher-order function.\n",
    "\n",
    "A Lambda function can take any number of arguments but you can only use a single expression. the syntax for using Lambda funtion is as below:"
   ]
  },
  {
   "cell_type": "markdown",
   "metadata": {},
   "source": [
    "Let us look at some examples using on lambda functions."
   ]
  },
  {
   "cell_type": "code",
   "execution_count": 27,
   "metadata": {},
   "outputs": [
    {
     "data": {
      "image/png": "[encoded data removed]",
      "text/plain": [
       "<IPython.core.display.Image object>"
      ]
     },
     "execution_count": 27,
     "metadata": {
      "image/png": {
       "height": 60,
       "width": 400
      }
     },
     "output_type": "execute_result"
    }
   ],
   "source": [
    "from IPython.display import Image\n",
    "Image(filename='lambda.png', width=400, height=60)"
   ]
  },
  {
   "cell_type": "markdown",
   "metadata": {},
   "source": [
    "**1. Obtain the minimum among two numbers**"
   ]
  },
  {
   "cell_type": "code",
   "execution_count": 14,
   "metadata": {},
   "outputs": [
    {
     "data": {
      "text/plain": [
       "34"
      ]
     },
     "execution_count": 14,
     "metadata": {},
     "output_type": "execute_result"
    }
   ],
   "source": [
    "min_value = (lambda x, y: x if x < y else y)\n",
    "min_value(34, 78)"
   ]
  },
  {
   "cell_type": "markdown",
   "metadata": {},
   "source": [
    "**2.  Multiply two numbers**"
   ]
  },
  {
   "cell_type": "code",
   "execution_count": 15,
   "metadata": {},
   "outputs": [
    {
     "data": {
      "text/plain": [
       "6"
      ]
     },
     "execution_count": 15,
     "metadata": {},
     "output_type": "execute_result"
    }
   ],
   "source": [
    "product = (lambda x, y: x*y)\n",
    "product(2,3)"
   ]
  },
  {
   "cell_type": "markdown",
   "metadata": {},
   "source": [
    "**3. Demonstrating wrong usuage of variable name**"
   ]
  },
  {
   "cell_type": "code",
   "execution_count": 16,
   "metadata": {},
   "outputs": [
    {
     "ename": "NameError",
     "evalue": "name 'b' is not defined",
     "output_type": "error",
     "traceback": [
      "\u001b[1;31m---------------------------------------------------------------------------\u001b[0m",
      "\u001b[1;31mNameError\u001b[0m                                 Traceback (most recent call last)",
      "\u001b[1;32m~\\AppData\\Local\\Temp\\ipykernel_14140\\3961043444.py\u001b[0m in \u001b[0;36m<module>\u001b[1;34m\u001b[0m\n\u001b[0;32m      1\u001b[0m \u001b[1;31m# multiplication - wrong usage of variable\u001b[0m\u001b[1;33m\u001b[0m\u001b[1;33m\u001b[0m\u001b[0m\n\u001b[0;32m      2\u001b[0m \u001b[0mx\u001b[0m \u001b[1;33m=\u001b[0m \u001b[1;32mlambda\u001b[0m \u001b[0ma\u001b[0m\u001b[1;33m,\u001b[0m \u001b[0mc\u001b[0m \u001b[1;33m:\u001b[0m \u001b[0ma\u001b[0m \u001b[1;33m+\u001b[0m \u001b[0mb\u001b[0m\u001b[1;33m\u001b[0m\u001b[1;33m\u001b[0m\u001b[0m\n\u001b[1;32m----> 3\u001b[1;33m \u001b[0mprint\u001b[0m\u001b[1;33m(\u001b[0m\u001b[0mx\u001b[0m\u001b[1;33m(\u001b[0m\u001b[1;36m5\u001b[0m\u001b[1;33m,\u001b[0m \u001b[1;36m6\u001b[0m\u001b[1;33m)\u001b[0m\u001b[1;33m)\u001b[0m\u001b[1;33m\u001b[0m\u001b[1;33m\u001b[0m\u001b[0m\n\u001b[0m",
      "\u001b[1;32m~\\AppData\\Local\\Temp\\ipykernel_14140\\3961043444.py\u001b[0m in \u001b[0;36m<lambda>\u001b[1;34m(a, c)\u001b[0m\n\u001b[0;32m      1\u001b[0m \u001b[1;31m# multiplication - wrong usage of variable\u001b[0m\u001b[1;33m\u001b[0m\u001b[1;33m\u001b[0m\u001b[0m\n\u001b[1;32m----> 2\u001b[1;33m \u001b[0mx\u001b[0m \u001b[1;33m=\u001b[0m \u001b[1;32mlambda\u001b[0m \u001b[0ma\u001b[0m\u001b[1;33m,\u001b[0m \u001b[0mc\u001b[0m \u001b[1;33m:\u001b[0m \u001b[0ma\u001b[0m \u001b[1;33m+\u001b[0m \u001b[0mb\u001b[0m\u001b[1;33m\u001b[0m\u001b[1;33m\u001b[0m\u001b[0m\n\u001b[0m\u001b[0;32m      3\u001b[0m \u001b[0mprint\u001b[0m\u001b[1;33m(\u001b[0m\u001b[0mx\u001b[0m\u001b[1;33m(\u001b[0m\u001b[1;36m5\u001b[0m\u001b[1;33m,\u001b[0m \u001b[1;36m6\u001b[0m\u001b[1;33m)\u001b[0m\u001b[1;33m)\u001b[0m\u001b[1;33m\u001b[0m\u001b[1;33m\u001b[0m\u001b[0m\n",
      "\u001b[1;31mNameError\u001b[0m: name 'b' is not defined"
     ]
    }
   ],
   "source": [
    "# multiplication - wrong usage of variable\n",
    "x = lambda a, c : a + b\n",
    "print(x(5, 6))"
   ]
  },
  {
   "cell_type": "markdown",
   "metadata": {},
   "source": [
    "**If variable a and c are used, then the operations should be on a and c.**"
   ]
  },
  {
   "cell_type": "markdown",
   "metadata": {},
   "source": [
    "    "
   ]
  },
  {
   "cell_type": "markdown",
   "metadata": {},
   "source": [
    "### Higher Order Functions\n",
    "\n",
    "A higher-order function is a function that takes one or more functions as arguments and/or returns a function as its result. In other words, a higher-order function either takes a function as an argument or returns a function as its result.\n",
    "\n",
    "Lambda functions are useful in use with Higher Order Functions (HOF), where you have to pass a function as a argument to another funciton."
   ]
  },
  {
   "cell_type": "markdown",
   "metadata": {},
   "source": [
    "    "
   ]
  },
  {
   "cell_type": "code",
   "execution_count": 17,
   "metadata": {},
   "outputs": [],
   "source": [
    "def exponential(x,y):\n",
    "    result=[]\n",
    "    for i in y:\n",
    "        result.append(x(i))\n",
    "    return result"
   ]
  },
  {
   "cell_type": "code",
   "execution_count": 18,
   "metadata": {},
   "outputs": [],
   "source": [
    "# x is a lambda function\n",
    "x = lambda x:x**3"
   ]
  },
  {
   "cell_type": "code",
   "execution_count": 19,
   "metadata": {},
   "outputs": [],
   "source": [
    "# y is a list\n",
    "y = [1,2,3,4]"
   ]
  },
  {
   "cell_type": "code",
   "execution_count": 20,
   "metadata": {},
   "outputs": [
    {
     "data": {
      "text/plain": [
       "[1, 8, 27, 64]"
      ]
     },
     "execution_count": 20,
     "metadata": {},
     "output_type": "execute_result"
    }
   ],
   "source": [
    "# exponential can be any power. That you can define through a lambda\n",
    "exponential(x,y)"
   ]
  },
  {
   "cell_type": "markdown",
   "metadata": {},
   "source": [
    "<a id='overview'> </a>\n",
    "## 4. Overview of map, reduce and filter functions"
   ]
  },
  {
   "cell_type": "markdown",
   "metadata": {},
   "source": [
    "<a id='map'></a>\n",
    "### 5.1 Function `map()`\n",
    "\n",
    "**`map()`** is a built-in function that applies a given function to each item of an iterable (e.g. a list, tuple, or set) and returns a new iterable object with the results.\n",
    "\n",
    "The syntax to use map function is:\n",
    "\n",
    "`map(function, iterable, ...)`\n",
    "\n",
    "Here, **function** is the function to apply to each element of the **iterable**, and iterable is the sequence of items to apply the function to. You can also pass in additional iterable arguments if the function requires them."
   ]
  },
  {
   "cell_type": "markdown",
   "metadata": {},
   "source": [
    "**1. A test was conducted in a class, the list of all the scores is given. Tha scores are out of 45. Obtain the percentage of each score using lambda function.**\n",
    "             \n",
    "             marks = [ 20, 23, 34, 45, 33, 10, 43, 23, 27, 34, 37, 44, 42, 43 ]\n"
   ]
  },
  {
   "cell_type": "code",
   "execution_count": 21,
   "metadata": {},
   "outputs": [
    {
     "data": {
      "text/plain": [
       "[44.44444444444444,\n",
       " 51.111111111111114,\n",
       " 75.55555555555556,\n",
       " 100.0,\n",
       " 73.33333333333333,\n",
       " 22.22222222222222,\n",
       " 95.55555555555556,\n",
       " 51.111111111111114,\n",
       " 60.0,\n",
       " 75.55555555555556,\n",
       " 82.22222222222223,\n",
       " 97.77777777777777,\n",
       " 93.33333333333333,\n",
       " 95.55555555555556]"
      ]
     },
     "execution_count": 21,
     "metadata": {},
     "output_type": "execute_result"
    }
   ],
   "source": [
    "marks = [ 20, 23, 34, 45, 33, 10, 43, 23, 27, 34, 37, 44, 42, 43 ]\n",
    "map(lambda x, y=100 :x*y/45 , marks)\n",
    "list(map(lambda x, y=100 :x*y/45 , marks))\n",
    "#OR\n",
    "#print(list(map(lambda x, y=100 :x*y/45 , marks)))"
   ]
  },
  {
   "cell_type": "markdown",
   "metadata": {},
   "source": [
    "The output is the percentage scores."
   ]
  },
  {
   "cell_type": "markdown",
   "metadata": {},
   "source": [
    "**2. Create two lists and add corresponding elements of each list**"
   ]
  },
  {
   "cell_type": "code",
   "execution_count": 22,
   "metadata": {},
   "outputs": [
    {
     "name": "stdout",
     "output_type": "stream",
     "text": [
      "[42, 40, 110]\n"
     ]
    }
   ],
   "source": [
    "# Two iterable arguments\n",
    "list_a = [30, 35, 40]\n",
    "list_b = [12, 5, 70]\n",
    "  \n",
    "print(list(map(lambda x, y: x + y, list_a, list_b)))"
   ]
  },
  {
   "cell_type": "markdown",
   "metadata": {},
   "source": [
    "In this case, we have passed a lambda function as the first argument to `map()`, and then passed list_a and list_b as additional arguments. The `map()` function will then apply the lambda function to each pair of corresponding elements in the two lists, and return an iterator with the results.\n",
    "\n",
    "We can then convert the iterator to a list to get the final result:"
   ]
  },
  {
   "cell_type": "markdown",
   "metadata": {},
   "source": [
    "<a id='filter'></a>\n",
    "### 5.2 Function `filter()`\n",
    "\n",
    "`filter()` is a built-in function that creates a new iterable object from an existing iterable object, by selecting only the elements that satisfy a certain condition. The condition is mentioned in the lambda function.\n",
    "\n",
    "The syntax for using `filter()` is as follows:\n",
    "\n",
    "`filter(function, iterable)`\n"
   ]
  },
  {
   "cell_type": "markdown",
   "metadata": {},
   "source": [
    "**1. To obtain the odd numbers from a list**"
   ]
  },
  {
   "cell_type": "code",
   "execution_count": 23,
   "metadata": {},
   "outputs": [
    {
     "name": "stdout",
     "output_type": "stream",
     "text": [
      "odd number is as follows:  [121, 443, 477, 125, 655, 141, 363, 125, 123]\n"
     ]
    }
   ],
   "source": [
    "numbers = [121, 443, 477, 125, 34, 655, 458, 141, 363, 125, 456 , 578, 123]\n",
    "\n",
    "# Use filter() to remove odd numbers\n",
    "out_filter_number = filter(lambda x:x%2!=0, numbers)\n",
    "print(\"odd number is as follows: \", list(out_filter_number))"
   ]
  },
  {
   "cell_type": "markdown",
   "metadata": {},
   "source": [
    "    "
   ]
  },
  {
   "cell_type": "markdown",
   "metadata": {},
   "source": [
    "**`filter()`** is the function that tests whether each element of the **iterable** meets a certain condition, and iterable is the sequence of items to be filtered.\n",
    "\n",
    "The `filter()` function applies the function to each element in the iterable, and returns a new iterable object that contains only the elements for which the function returns **True**."
   ]
  },
  {
   "cell_type": "markdown",
   "metadata": {},
   "source": [
    "<a id='reduce'></a>\n",
    "### 4.3 Function `reduce()`"
   ]
  },
  {
   "cell_type": "markdown",
   "metadata": {},
   "source": [
    "**1. List of  sales in a shop are noted. Obtain the total sales**"
   ]
  },
  {
   "cell_type": "code",
   "execution_count": 24,
   "metadata": {},
   "outputs": [
    {
     "name": "stdout",
     "output_type": "stream",
     "text": [
      "232266\n"
     ]
    }
   ],
   "source": [
    "# first, import reduce function from functools\n",
    "from functools import reduce\n",
    "\n",
    "sale = [14565,65460,74450,54546,23245]\n",
    "total_sale = reduce(lambda a, b: a + b, sale)\n",
    "print(total_sale)\n"
   ]
  },
  {
   "cell_type": "markdown",
   "metadata": {},
   "source": [
    "**Thus we may say the total sale is 385,730 CAD.**"
   ]
  },
  {
   "cell_type": "markdown",
   "metadata": {},
   "source": [
    "How does this work:\n"
   ]
  },
  {
   "cell_type": "code",
   "execution_count": 26,
   "metadata": {},
   "outputs": [
    {
     "data": {
      "image/png": "[encoded data removed]",
      "text/plain": [
       "<IPython.core.display.Image object>"
      ]
     },
     "execution_count": 26,
     "metadata": {
      "image/png": {
       "height": 60,
       "width": 400
      }
     },
     "output_type": "execute_result"
    }
   ],
   "source": [
    "from IPython.display import Image\n",
    "Image(filename='reduce.png', width=400, height=60)"
   ]
  }
 ],
 "metadata": {
  "kernelspec": {
   "display_name": "Python 3 (ipykernel)",
   "language": "python",
   "name": "python3"
  },
  "language_info": {
   "codemirror_mode": {
    "name": "ipython",
    "version": 3
   },
   "file_extension": ".py",
   "mimetype": "text/x-python",
   "name": "python",
   "nbconvert_exporter": "python",
   "pygments_lexer": "ipython3",
   "version": "3.9.13"
  }
 },
 "nbformat": 4,
 "nbformat_minor": 2
}
