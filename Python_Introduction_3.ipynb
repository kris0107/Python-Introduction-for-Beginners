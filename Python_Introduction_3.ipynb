{
 "cells": [
  {
   "cell_type": "markdown",
   "id": "8b4e9985",
   "metadata": {},
   "source": [
    "## <span style=\"color:darkolivegreen\">Conditional Statement and Loops</span>\n",
    "\n",
    "1. **[if statement](#if_statement)**\n",
    "2. **[if else statement](#if_else)**\n",
    "3. **[if elif else](#if_elif_else)**\n",
    "4. **[for loop](#forloop)**\n",
    "5. **[while loop](#whileloop)**\n",
    "6. **[break statement](#breakstatement)**\n",
    "7. **[continue statement](#continuestatement)**"
   ]
  },
  {
   "cell_type": "markdown",
   "id": "705b2745",
   "metadata": {},
   "source": [
    "<a id=\"if_statement\"> </a>\n",
    "## 1. if statement\n"
   ]
  },
  {
   "cell_type": "markdown",
   "id": "ffba0a38",
   "metadata": {},
   "source": [
    "**syntax:**<br><br>\n",
    "if EXPRESSION:<br>\n",
    "&nbsp;&nbsp;    STATEMENTS\n",
    "\n",
    "Use colon `:` and `indentation` correctly"
   ]
  },
  {
   "cell_type": "markdown",
   "id": "9924cbc8",
   "metadata": {},
   "source": [
    "####  Now, we will see some examples on if statements"
   ]
  },
  {
   "cell_type": "code",
   "execution_count": 1,
   "id": "66275baa",
   "metadata": {},
   "outputs": [
    {
     "name": "stdout",
     "output_type": "stream",
     "text": [
      "[1, 2, 3, 4]\n"
     ]
    }
   ],
   "source": [
    "# create a list and check for the element in the list\n",
    "bisi = [1,2,3,4]\n",
    "if 3 in bisi:\n",
    "    print(bisi)"
   ]
  },
  {
   "cell_type": "markdown",
   "id": "77aed2be",
   "metadata": {},
   "source": [
    "<a id=\"if_else\"> </a>\n",
    "## 2. if else statement\n"
   ]
  },
  {
   "cell_type": "markdown",
   "id": "31022f17",
   "metadata": {},
   "source": [
    "**Syntax of if...else**<br><br>\n",
    "if EXPRESSION:<br>\n",
    "&nbsp;&nbsp;    STATEMENT_1<br>\n",
    "else:<br>\n",
    "&nbsp;&nbsp;    STATEMENT_2\n",
    "\n",
    "\n",
    "The `else` keyword catches anything which isn't caught by the preceeding conditions."
   ]
  },
  {
   "cell_type": "code",
   "execution_count": 2,
   "id": "d9f71588",
   "metadata": {},
   "outputs": [
    {
     "name": "stdout",
     "output_type": "stream",
     "text": [
      "less\n"
     ]
    }
   ],
   "source": [
    "# 2 conditions - Check if a number is greater than 50 or less than 50\n",
    "# or write a username password program\n",
    "\n",
    "a = 50\n",
    "\n",
    "if a>50:\n",
    "    print('Greater')\n",
    "else:\n",
    "    print('less')"
   ]
  },
  {
   "cell_type": "markdown",
   "id": "b18c7eae",
   "metadata": {},
   "source": [
    "<a id=\"if_elif_else\"> </a>\n",
    "## 3. if elif else\n"
   ]
  },
  {
   "cell_type": "markdown",
   "id": "8857bcbf",
   "metadata": {},
   "source": [
    "**Syntax of if elif else:**<br><br>\n",
    "if expression 1:<br>\n",
    "&nbsp;&nbsp;    STATEMENTS_A<br>\n",
    "elif expression 2:<br>\n",
    "&nbsp;&nbsp;   STATEMENTS_B<br>\n",
    "else:<br>\n",
    "&nbsp;&nbsp;    STATEMENTS_C"
   ]
  },
  {
   "cell_type": "code",
   "execution_count": 4,
   "id": "2f71fee4",
   "metadata": {},
   "outputs": [
    {
     "name": "stdout",
     "output_type": "stream",
     "text": [
      "Equal\n"
     ]
    }
   ],
   "source": [
    "# 3 or more conditions - Check whether the given number equals 0, greater than 50 or less than 50. \n",
    "a = 60\n",
    "\n",
    "if a>60:\n",
    "    print('Greater')\n",
    "elif a<60:\n",
    "    print('Less')\n",
    "else:\n",
    "    print('Equal')"
   ]
  },
  {
   "cell_type": "markdown",
   "id": "c4552e6e",
   "metadata": {},
   "source": [
    "<a id=\"forloop\"> </a>\n",
    "## 4. for loop\n"
   ]
  },
  {
   "cell_type": "markdown",
   "id": "df261b04",
   "metadata": {},
   "source": [
    "**Syntax of for loop:**<br><br>\n",
    "for val in sequence:<br>\n",
    "&nbsp;&nbsp;\tBody of for <br><br>\n",
    "\n",
    "\n",
    "\n",
    "A `for` loop is used for iterating over a sequence (that is either a list, a tuple, a dictionary, a set)."
   ]
  },
  {
   "cell_type": "code",
   "execution_count": 12,
   "id": "111f3764",
   "metadata": {
    "scrolled": true
   },
   "outputs": [
    {
     "name": "stdout",
     "output_type": "stream",
     "text": [
      "4\n",
      "16\n"
     ]
    }
   ],
   "source": [
    "# create a list of numbers, using for loop, square each number\n",
    "\n",
    "list1 = [1,2,3,4]\n",
    "\n",
    "for i in list1:\n",
    "    if i%2 == 0:\n",
    "        print(i**2)\n"
   ]
  },
  {
   "cell_type": "code",
   "execution_count": 14,
   "id": "23e129a4",
   "metadata": {},
   "outputs": [
    {
     "name": "stdout",
     "output_type": "stream",
     "text": [
      "9\n",
      "36\n"
     ]
    }
   ],
   "source": [
    "bisi = [1,2,3,4,5,6]\n",
    "\n",
    "for x in bisi:\n",
    "    if x>=3:\n",
    "        if x%3 == 0:\n",
    "            print(x**2)"
   ]
  },
  {
   "cell_type": "code",
   "execution_count": 17,
   "id": "7514b097",
   "metadata": {},
   "outputs": [
    {
     "name": "stdout",
     "output_type": "stream",
     "text": [
      "9\n",
      "36\n"
     ]
    }
   ],
   "source": [
    "bisi = [1,2,3,4,5,6]\n",
    "\n",
    "for x in bisi:\n",
    "    if x>=3 & x%3 == 0:\n",
    "        print(x**2)"
   ]
  },
  {
   "cell_type": "markdown",
   "id": "b85e9c45",
   "metadata": {},
   "source": [
    "<a id=\"whileloop\"> </a>\n",
    "## 5. while loop"
   ]
  },
  {
   "cell_type": "markdown",
   "id": "e613836b",
   "metadata": {},
   "source": [
    "**Syntax of for loop:**<br><br>\n",
    "while (expression):<br>\n",
    "&nbsp;&nbsp;     statement_1<br>\n",
    "&nbsp;&nbsp;     statement_2<br>\n",
    "    .... \n",
    "<br><br>\n",
    "With the `while` loop we can execute a set of statements as long as a condition is true."
   ]
  },
  {
   "cell_type": "code",
   "execution_count": 24,
   "id": "40486dc4",
   "metadata": {},
   "outputs": [
    {
     "name": "stdout",
     "output_type": "stream",
     "text": [
      "1\n",
      "2\n",
      "3\n",
      "4\n",
      "5\n"
     ]
    }
   ],
   "source": [
    "# print the first 5 digits\n",
    "bisi = [1,2,3,4,5,6]\n",
    "i = 0\n",
    "while (i < 5):\n",
    "    print(bisi[i])\n",
    "    i+=1"
   ]
  },
  {
   "cell_type": "markdown",
   "id": "8ce3bbbc",
   "metadata": {},
   "source": [
    "<a id=\"breakstatement\"> </a>\n",
    "## 6. break statement\n",
    "\n",
    "\n",
    "<br>The `break` keyword is used to break out of a loop completely."
   ]
  },
  {
   "cell_type": "code",
   "execution_count": 25,
   "id": "17633836",
   "metadata": {},
   "outputs": [
    {
     "name": "stdout",
     "output_type": "stream",
     "text": [
      "1\n",
      "4\n",
      "9\n",
      "16\n"
     ]
    }
   ],
   "source": [
    "# create a list of numbers, and if number is 4; break out\n",
    "bisi = [1,2,3,4,5,6]\n",
    "for x in bisi:\n",
    "    if x>4:\n",
    "        break\n",
    "    print(x**2)"
   ]
  },
  {
   "cell_type": "markdown",
   "id": "7cc2e487",
   "metadata": {},
   "source": [
    "### <a id=\"continuestatement\"> </a>\n",
    "## 7. continue statement\n",
    "\n",
    "\n",
    "The `continue` keyword is used to end the current iteration in a loop, and continue to the next iteration."
   ]
  },
  {
   "cell_type": "code",
   "execution_count": 26,
   "id": "42d00db2",
   "metadata": {
    "scrolled": true
   },
   "outputs": [
    {
     "name": "stdout",
     "output_type": "stream",
     "text": [
      "1\n",
      "4\n",
      "9\n",
      "25\n",
      "36\n"
     ]
    }
   ],
   "source": [
    "# create a list of numbers, and if numebr is 4; continue to next iteration\n",
    "bisi = [1,2,3,4,5,6]\n",
    "for x in bisi:\n",
    "    if x == 4:\n",
    "        continue\n",
    "    print(x**2)"
   ]
  },
  {
   "cell_type": "code",
   "execution_count": 27,
   "id": "951d7170",
   "metadata": {},
   "outputs": [],
   "source": [
    "t = (1,2,3,4,5,5,5,6,6)"
   ]
  },
  {
   "cell_type": "code",
   "execution_count": 40,
   "id": "655db1c5",
   "metadata": {},
   "outputs": [
    {
     "data": {
      "text/plain": [
       "[4, 5, 6]"
      ]
     },
     "execution_count": 40,
     "metadata": {},
     "output_type": "execute_result"
    }
   ],
   "source": [
    "t = (1,2,3,4,5,5,5,6,6)\n",
    "indexes = []\n",
    "for x in range(0,len(t)):\n",
    "    if t[x] == 5:\n",
    "        indexes.append(x)\n",
    "indexes        "
   ]
  },
  {
   "cell_type": "code",
   "execution_count": null,
   "id": "0709ca0d",
   "metadata": {},
   "outputs": [],
   "source": []
  }
 ],
 "metadata": {
  "kernelspec": {
   "display_name": "Python 3 (ipykernel)",
   "language": "python",
   "name": "python3"
  },
  "language_info": {
   "codemirror_mode": {
    "name": "ipython",
    "version": 3
   },
   "file_extension": ".py",
   "mimetype": "text/x-python",
   "name": "python",
   "nbconvert_exporter": "python",
   "pygments_lexer": "ipython3",
   "version": "3.9.13"
  }
 },
 "nbformat": 4,
 "nbformat_minor": 5
}
