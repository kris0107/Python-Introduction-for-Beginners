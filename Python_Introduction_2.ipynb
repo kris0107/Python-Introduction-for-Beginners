{
 "cells": [
  {
   "cell_type": "markdown",
   "metadata": {
    "collapsed": true,
    "id": "VZC0Jb6dgBFM"
   },
   "source": [
    "# Contents\n",
    "\n",
    "1. **[Introduction to List](#list)**\n",
    "2. **[Introduction to Tuple](#tuple)**\n",
    "3. **[Introduction to Dictionary](#Dictionary)**\n",
    "3. **[Introduction to Sets](#sets)**"
   ]
  },
  {
   "cell_type": "markdown",
   "metadata": {
    "id": "4NLXGP7CgBFO"
   },
   "source": [
    "<a id=\"list\"> </a>\n",
    "## <span style=\"color:darkolivegreen\">**1. Introduction to List**</span>\n"
   ]
  },
  {
   "cell_type": "markdown",
   "metadata": {
    "id": "QqZoGOCsgBFP"
   },
   "source": [
    "### Constructing Lists\n",
    "\n",
    "To create a list, use square brackets `[ ]` and separate items in the list with commas.\n",
    "A list can be empty or contain any number of items with different data types (integers, float, strings, etc.)"
   ]
  },
  {
   "cell_type": "code",
   "execution_count": 2,
   "metadata": {
    "id": "UraWAxswgBFQ"
   },
   "outputs": [
    {
     "data": {
      "text/plain": [
       "['data', 25, 'machine', 'AI']"
      ]
     },
     "execution_count": 2,
     "metadata": {},
     "output_type": "execute_result"
    }
   ],
   "source": [
    "#create a list\n",
    "bisi = ['data', 25, 'machine', 'AI']\n",
    "bisi"
   ]
  },
  {
   "cell_type": "code",
   "execution_count": 3,
   "metadata": {},
   "outputs": [
    {
     "data": {
      "text/plain": [
       "list"
      ]
     },
     "execution_count": 3,
     "metadata": {},
     "output_type": "execute_result"
    }
   ],
   "source": [
    "type(bisi)"
   ]
  },
  {
   "cell_type": "markdown",
   "metadata": {
    "id": "Urz3y22hgBFW"
   },
   "source": [
    "### Acessing Elements in a List\n",
    "You can access the list items by referring to the index number"
   ]
  },
  {
   "cell_type": "markdown",
   "metadata": {
    "id": "gn7hkvCegBFX"
   },
   "source": [
    "**Indexing:**<br>\n",
    "We use the index operator `[ ]`. Note that the index starts from 0 in python and must be an integer"
   ]
  },
  {
   "cell_type": "code",
   "execution_count": 4,
   "metadata": {
    "id": "NbWA-bH0htyv"
   },
   "outputs": [
    {
     "data": {
      "text/plain": [
       "['data', 25, 'machine', 'AI']"
      ]
     },
     "execution_count": 4,
     "metadata": {},
     "output_type": "execute_result"
    }
   ],
   "source": [
    "#Inclusive and Exclusive in Python\n",
    "bisi[0:]"
   ]
  },
  {
   "cell_type": "code",
   "execution_count": 5,
   "metadata": {},
   "outputs": [
    {
     "data": {
      "text/plain": [
       "['data', 25, 'machine']"
      ]
     },
     "execution_count": 5,
     "metadata": {},
     "output_type": "execute_result"
    }
   ],
   "source": [
    "bisi[0:3]"
   ]
  },
  {
   "cell_type": "code",
   "execution_count": 6,
   "metadata": {
    "id": "vX_CxZ_VgBFX"
   },
   "outputs": [
    {
     "data": {
      "text/plain": [
       "25"
      ]
     },
     "execution_count": 6,
     "metadata": {},
     "output_type": "execute_result"
    }
   ],
   "source": [
    "#Print the second item of the list\n",
    "bisi[1]"
   ]
  },
  {
   "cell_type": "markdown",
   "metadata": {},
   "source": [
    "    "
   ]
  },
  {
   "cell_type": "markdown",
   "metadata": {
    "id": "N3TiHDDIgBFY"
   },
   "source": [
    "**Negative Indexing**:<br>\n",
    "Negative indexing means beginning from the end, -1 refers to the last item, -2 refers to the second last item"
   ]
  },
  {
   "cell_type": "code",
   "execution_count": 7,
   "metadata": {
    "id": "1seE_9wugBFa"
   },
   "outputs": [
    {
     "data": {
      "text/plain": [
       "'machine'"
      ]
     },
     "execution_count": 7,
     "metadata": {},
     "output_type": "execute_result"
    }
   ],
   "source": [
    "#Print the second last item of the list\n",
    "bisi[-2]"
   ]
  },
  {
   "cell_type": "markdown",
   "metadata": {
    "id": "5VX0PoidgBFa"
   },
   "source": [
    "### Slicing of a List\n",
    "List uses the slicing operator `:` (colon) to extract part of the sequence"
   ]
  },
  {
   "cell_type": "code",
   "execution_count": 8,
   "metadata": {
    "id": "LFHUzio_gBFb"
   },
   "outputs": [
    {
     "data": {
      "text/plain": [
       "['data', 25, 'machine']"
      ]
     },
     "execution_count": 8,
     "metadata": {},
     "output_type": "execute_result"
    }
   ],
   "source": [
    "#Return first three elements from the list\n",
    "bisi[0:3]"
   ]
  },
  {
   "cell_type": "markdown",
   "metadata": {
    "id": "ydItSoJYgBFe"
   },
   "source": [
    "### Change Item Value\n",
    "Refer the index number to change the value of a specific item"
   ]
  },
  {
   "cell_type": "code",
   "execution_count": 9,
   "metadata": {
    "id": "P6J-PRRJgBFe"
   },
   "outputs": [
    {
     "data": {
      "text/plain": [
       "['data', 25, 50, 'AI']"
      ]
     },
     "execution_count": 9,
     "metadata": {},
     "output_type": "execute_result"
    }
   ],
   "source": [
    "#change the third item\n",
    "bisi[2] = 50\n",
    "bisi"
   ]
  },
  {
   "cell_type": "markdown",
   "metadata": {
    "id": "LNvMI02AgBFe"
   },
   "source": [
    "### List Methods\n",
    "Python has a set of built-in methods that you can use on lists. Some examples are:<br>\n",
    "\n",
    "`append()`<br>\n",
    "`insert()`<br>\n",
    "`reverse()`<br>\n",
    "\n",
    "You can press the `tab` key to see the list of available methods "
   ]
  },
  {
   "cell_type": "markdown",
   "metadata": {},
   "source": [
    "    "
   ]
  },
  {
   "cell_type": "markdown",
   "metadata": {
    "id": "64xQQaXYgBFf"
   },
   "source": [
    "**`list.append()`**<br>\n",
    "This method will add the element at the end of a list"
   ]
  },
  {
   "cell_type": "code",
   "execution_count": 10,
   "metadata": {
    "id": "ErTxcpcUgBFf"
   },
   "outputs": [
    {
     "data": {
      "text/plain": [
       "['data', 25, 50, 'AI', 80]"
      ]
     },
     "execution_count": 10,
     "metadata": {},
     "output_type": "execute_result"
    }
   ],
   "source": [
    "# add element to the list\n",
    "bisi.append(80)\n",
    "bisi"
   ]
  },
  {
   "cell_type": "markdown",
   "metadata": {
    "id": "f4yXJihggBFg"
   },
   "source": [
    "**`list.insert(i, item)`**<br>\n",
    "This method will insert an element at the ith index in a list"
   ]
  },
  {
   "cell_type": "code",
   "execution_count": 12,
   "metadata": {
    "id": "cZTbpyNZgBFg"
   },
   "outputs": [
    {
     "data": {
      "text/plain": [
       "['data', 25, 'viz', 'viz', 50, 'AI', 80]"
      ]
     },
     "execution_count": 12,
     "metadata": {},
     "output_type": "execute_result"
    }
   ],
   "source": [
    "# insert element at 2nd index in a list\n",
    "bisi.insert(2,'viz')\n",
    "bisi"
   ]
  },
  {
   "cell_type": "markdown",
   "metadata": {
    "id": "UnJqmVt3gBFi"
   },
   "source": [
    "**`list.reverse()`**<br>\n",
    "This method reverses the sorting order of the elements"
   ]
  },
  {
   "cell_type": "code",
   "execution_count": 15,
   "metadata": {
    "id": "_zGEMyaqgBFj"
   },
   "outputs": [
    {
     "data": {
      "text/plain": [
       "[80, 'AI', 50, 'viz', 'viz', 25, 'data']"
      ]
     },
     "execution_count": 15,
     "metadata": {},
     "output_type": "execute_result"
    }
   ],
   "source": [
    "# reverse the elements in the list\n",
    "bisi.reverse()\n",
    "bisi"
   ]
  },
  {
   "cell_type": "markdown",
   "metadata": {},
   "source": [
    "    "
   ]
  },
  {
   "cell_type": "markdown",
   "metadata": {},
   "source": [
    "    "
   ]
  },
  {
   "cell_type": "markdown",
   "metadata": {
    "id": "WvUtNDg8gBFl"
   },
   "source": [
    "<a id=\"tuple\"> </a>\n",
    "## <span style=\"color:darkolivegreen\">**2. Introduction to Tuple**</span>"
   ]
  },
  {
   "cell_type": "markdown",
   "metadata": {
    "id": "rcH1Hn_AgBFm"
   },
   "source": [
    "### Creating Tuple\n",
    "We can have tuple of same type of data items as well as mixed type of data items "
   ]
  },
  {
   "cell_type": "code",
   "execution_count": 16,
   "metadata": {},
   "outputs": [
    {
     "name": "stdout",
     "output_type": "stream",
     "text": [
      "['False', 'None', 'True', '__peg_parser__', 'and', 'as', 'assert', 'async', 'await', 'break', 'class', 'continue', 'def', 'del', 'elif', 'else', 'except', 'finally', 'for', 'from', 'global', 'if', 'import', 'in', 'is', 'lambda', 'nonlocal', 'not', 'or', 'pass', 'raise', 'return', 'try', 'while', 'with', 'yield']\n"
     ]
    }
   ],
   "source": [
    "import keyword\n",
    "print(keyword.kwlist)"
   ]
  },
  {
   "cell_type": "code",
   "execution_count": 17,
   "metadata": {
    "id": "z-NuTyQYgBFm"
   },
   "outputs": [
    {
     "data": {
      "text/plain": [
       "('data', 25, 50, 'AI', 80)"
      ]
     },
     "execution_count": 17,
     "metadata": {},
     "output_type": "execute_result"
    }
   ],
   "source": [
    "# Create a tuple of int, float, string\n",
    "course = ('data', 25, 50, 'AI', 80)\n",
    "course"
   ]
  },
  {
   "cell_type": "code",
   "execution_count": 18,
   "metadata": {},
   "outputs": [
    {
     "data": {
      "text/plain": [
       "tuple"
      ]
     },
     "execution_count": 18,
     "metadata": {},
     "output_type": "execute_result"
    }
   ],
   "source": [
    "type(course)"
   ]
  },
  {
   "cell_type": "markdown",
   "metadata": {
    "id": "BrVHJy0igBFn"
   },
   "source": [
    "### Access Tuple Elements\n",
    "We use indexes to access the elements of a tuple"
   ]
  },
  {
   "cell_type": "code",
   "execution_count": 20,
   "metadata": {
    "id": "4FlBcwcsgBFn"
   },
   "outputs": [
    {
     "data": {
      "text/plain": [
       "25"
      ]
     },
     "execution_count": 20,
     "metadata": {},
     "output_type": "execute_result"
    }
   ],
   "source": [
    "# access the second element from the tuple\n",
    "course[1]"
   ]
  },
  {
   "cell_type": "markdown",
   "metadata": {
    "id": "BGiFfk93gBFn"
   },
   "source": [
    "### Change Tuple Values\n",
    "We cannot change the elements of a tuple because elements of <span style=\"color:crimson\">tuples are immutable</span>."
   ]
  },
  {
   "cell_type": "code",
   "execution_count": 21,
   "metadata": {
    "id": "oXSuXF7CgBFo"
   },
   "outputs": [
    {
     "ename": "TypeError",
     "evalue": "'tuple' object does not support item assignment",
     "output_type": "error",
     "traceback": [
      "\u001b[1;31m---------------------------------------------------------------------------\u001b[0m",
      "\u001b[1;31mTypeError\u001b[0m                                 Traceback (most recent call last)",
      "\u001b[1;32m~\\AppData\\Local\\Temp\\ipykernel_3460\\390497239.py\u001b[0m in \u001b[0;36m<module>\u001b[1;34m\u001b[0m\n\u001b[0;32m      1\u001b[0m \u001b[1;31m# change the second element from the tuple\u001b[0m\u001b[1;33m\u001b[0m\u001b[1;33m\u001b[0m\u001b[0m\n\u001b[1;32m----> 2\u001b[1;33m \u001b[0mcourse\u001b[0m\u001b[1;33m[\u001b[0m\u001b[1;36m1\u001b[0m\u001b[1;33m]\u001b[0m \u001b[1;33m=\u001b[0m \u001b[1;36m35\u001b[0m\u001b[1;33m\u001b[0m\u001b[1;33m\u001b[0m\u001b[0m\n\u001b[0m",
      "\u001b[1;31mTypeError\u001b[0m: 'tuple' object does not support item assignment"
     ]
    }
   ],
   "source": [
    "# change the second element from the tuple\n",
    "course[1] = 35"
   ]
  },
  {
   "cell_type": "markdown",
   "metadata": {
    "id": "oadoHDJzgBFo"
   },
   "source": [
    "### Delete Operation on Tuple\n",
    "As discussed tuple elements are immutable which also means that we <span style=\"color:crimson\">cannot delete the elements of a tuple</span>. However deleting entire tuple is possible"
   ]
  },
  {
   "cell_type": "code",
   "execution_count": 22,
   "metadata": {
    "id": "9m-iGGaWgBFo"
   },
   "outputs": [
    {
     "ename": "TypeError",
     "evalue": "'tuple' object doesn't support item deletion",
     "output_type": "error",
     "traceback": [
      "\u001b[1;31m---------------------------------------------------------------------------\u001b[0m",
      "\u001b[1;31mTypeError\u001b[0m                                 Traceback (most recent call last)",
      "\u001b[1;32m~\\AppData\\Local\\Temp\\ipykernel_3460\\3953929792.py\u001b[0m in \u001b[0;36m<module>\u001b[1;34m\u001b[0m\n\u001b[0;32m      1\u001b[0m \u001b[1;31m# delete element from the tuple\u001b[0m\u001b[1;33m\u001b[0m\u001b[1;33m\u001b[0m\u001b[0m\n\u001b[1;32m----> 2\u001b[1;33m \u001b[1;32mdel\u001b[0m \u001b[0mcourse\u001b[0m\u001b[1;33m[\u001b[0m\u001b[1;36m2\u001b[0m\u001b[1;33m]\u001b[0m\u001b[1;33m\u001b[0m\u001b[1;33m\u001b[0m\u001b[0m\n\u001b[0m",
      "\u001b[1;31mTypeError\u001b[0m: 'tuple' object doesn't support item deletion"
     ]
    }
   ],
   "source": [
    "# delete element from the tuple\n",
    "del course[2]"
   ]
  },
  {
   "cell_type": "markdown",
   "metadata": {
    "id": "_Zw2-j80gBFp"
   },
   "source": [
    "### Tuple Methods"
   ]
  },
  {
   "cell_type": "markdown",
   "metadata": {
    "id": "B48uZoq8gBFp"
   },
   "source": [
    "Python has built-in methods that you can use on tuples:<br>\n",
    "\n",
    "`count()`<br>\n",
    "`index()`<br>\n",
    "\n",
    "You can press the `tab` key to see the list of available methods "
   ]
  },
  {
   "cell_type": "markdown",
   "metadata": {
    "id": "1IiNxLlngBFp"
   },
   "source": [
    "**`tuple.count()`**<br>\n",
    "Returns the **number of times** a specified value occurs in a tuple"
   ]
  },
  {
   "cell_type": "code",
   "execution_count": 23,
   "metadata": {
    "id": "6FBZXgEIgBFp"
   },
   "outputs": [
    {
     "data": {
      "text/plain": [
       "1"
      ]
     },
     "execution_count": 23,
     "metadata": {},
     "output_type": "execute_result"
    }
   ],
   "source": [
    "course.count(25)"
   ]
  },
  {
   "cell_type": "markdown",
   "metadata": {
    "id": "kW-d6_X-gBFp"
   },
   "source": [
    "**`tuple.index()`**<br>\n",
    "Searches the tuple for a specified value and returns the position of **where** it was found"
   ]
  },
  {
   "cell_type": "code",
   "execution_count": 24,
   "metadata": {
    "id": "rY5qWJM_gBFq"
   },
   "outputs": [
    {
     "data": {
      "text/plain": [
       "2"
      ]
     },
     "execution_count": 24,
     "metadata": {},
     "output_type": "execute_result"
    }
   ],
   "source": [
    "course.index(50)"
   ]
  },
  {
   "cell_type": "markdown",
   "metadata": {},
   "source": [
    "    "
   ]
  },
  {
   "cell_type": "markdown",
   "metadata": {},
   "source": [
    "    "
   ]
  },
  {
   "cell_type": "markdown",
   "metadata": {},
   "source": [
    "<a id=\"Dictionary\"> </a>\n",
    "## <span style=\"color:darkolivegreen\">**3. Introduction to Dictionary**</span>"
   ]
  },
  {
   "cell_type": "markdown",
   "metadata": {},
   "source": [
    "**General Syntax of Dictionary:**<br>\n",
    "dictionary_name = {&nbsp;key_1: value_1,<br>\n",
    "&nbsp;&nbsp;&nbsp;&nbsp;&nbsp;&nbsp;&nbsp;&nbsp;&nbsp;&nbsp;&nbsp;&nbsp;&nbsp;&nbsp;&nbsp;&nbsp;&nbsp;&nbsp;&nbsp;&nbsp;&nbsp;&nbsp;&nbsp;&nbsp;&nbsp;&nbsp;&nbsp;&nbsp;&nbsp;&nbsp;&nbsp;&nbsp;                   key_2: value_2,<br>\n",
    "&nbsp;&nbsp;&nbsp;&nbsp;&nbsp;&nbsp;&nbsp;&nbsp;&nbsp;&nbsp;&nbsp;&nbsp;&nbsp;&nbsp;&nbsp;&nbsp;&nbsp;&nbsp;&nbsp;&nbsp;&nbsp;&nbsp;&nbsp;&nbsp;&nbsp;&nbsp;&nbsp;&nbsp;&nbsp;&nbsp;&nbsp;&nbsp;                    key_3: value_3,<br>\n",
    "&nbsp;&nbsp;&nbsp;&nbsp;&nbsp;&nbsp;&nbsp;&nbsp;&nbsp;&nbsp;&nbsp;&nbsp;&nbsp;&nbsp;&nbsp;&nbsp;&nbsp;&nbsp;&nbsp;&nbsp;&nbsp;&nbsp;&nbsp;&nbsp;&nbsp;&nbsp;&nbsp;&nbsp;&nbsp;&nbsp;&nbsp;&nbsp;                    }"
   ]
  },
  {
   "cell_type": "markdown",
   "metadata": {},
   "source": [
    "    "
   ]
  },
  {
   "cell_type": "markdown",
   "metadata": {},
   "source": [
    "### Create a Dictionary\n",
    "Separate keys from values with a colon `:` and a pair from another by a comma `,` Put it all in curly `{}` braces"
   ]
  },
  {
   "cell_type": "code",
   "execution_count": 25,
   "metadata": {},
   "outputs": [
    {
     "data": {
      "text/plain": [
       "{'Elon': 50, 'Bezos': 56, 'Mark': 45}"
      ]
     },
     "execution_count": 25,
     "metadata": {},
     "output_type": "execute_result"
    }
   ],
   "source": [
    "# Create a dictionary\n",
    "table = { 'Elon' : 50, 'Bezos' : 56, 'Mark' : 45 }\n",
    "table"
   ]
  },
  {
   "cell_type": "code",
   "execution_count": 26,
   "metadata": {},
   "outputs": [
    {
     "data": {
      "text/plain": [
       "dict"
      ]
     },
     "execution_count": 26,
     "metadata": {},
     "output_type": "execute_result"
    }
   ],
   "source": [
    "type(table)"
   ]
  },
  {
   "cell_type": "markdown",
   "metadata": {},
   "source": [
    "    "
   ]
  },
  {
   "cell_type": "markdown",
   "metadata": {},
   "source": [
    "### Accessing Items\n",
    "You can access the items of a dictionary by referring to its `key name`, inside square brackets"
   ]
  },
  {
   "cell_type": "code",
   "execution_count": 28,
   "metadata": {},
   "outputs": [
    {
     "data": {
      "text/plain": [
       "50"
      ]
     },
     "execution_count": 28,
     "metadata": {},
     "output_type": "execute_result"
    }
   ],
   "source": [
    "# Get the value of a key\n",
    "table['Elon']"
   ]
  },
  {
   "cell_type": "markdown",
   "metadata": {},
   "source": [
    "    "
   ]
  },
  {
   "cell_type": "markdown",
   "metadata": {},
   "source": [
    "### Change Values\n",
    "Dictionary is <span style=\"color:crimson\">mutable</span>. You can change the value of a specific element by referring to its `key name`"
   ]
  },
  {
   "cell_type": "code",
   "execution_count": 29,
   "metadata": {},
   "outputs": [
    {
     "data": {
      "text/plain": [
       "{'Elon': 50, 'Bezos': 60, 'Mark': 45}"
      ]
     },
     "execution_count": 29,
     "metadata": {},
     "output_type": "execute_result"
    }
   ],
   "source": [
    "# Change a value\n",
    "table['Bezos'] = 60\n",
    "table"
   ]
  },
  {
   "cell_type": "markdown",
   "metadata": {},
   "source": [
    "### **Adding Items**\n",
    "Adding an item to the dictionary is done by using a new index key and assigning a value to it."
   ]
  },
  {
   "cell_type": "code",
   "execution_count": 30,
   "metadata": {},
   "outputs": [
    {
     "data": {
      "text/plain": [
       "{'Elon': 50, 'Bezos': 60, 'Mark': 45, 'Bill': 75}"
      ]
     },
     "execution_count": 30,
     "metadata": {},
     "output_type": "execute_result"
    }
   ],
   "source": [
    "# Add new item to the dictionary\n",
    "table['Bill'] = 75\n",
    "table"
   ]
  },
  {
   "cell_type": "markdown",
   "metadata": {},
   "source": [
    "    "
   ]
  },
  {
   "cell_type": "markdown",
   "metadata": {},
   "source": [
    "### Dictionary Methods"
   ]
  },
  {
   "cell_type": "markdown",
   "metadata": {},
   "source": [
    "There are several methods that you can use on a dictionary:<br>\n",
    "\n",
    "`pop()`<br>\n",
    "`clear()`\n",
    "\n",
    "You can press the `tab` key to see the list of available methods "
   ]
  },
  {
   "cell_type": "markdown",
   "metadata": {},
   "source": [
    "**`dict.pop()`**<br>\n",
    "This method removes the item with the specified key name"
   ]
  },
  {
   "cell_type": "code",
   "execution_count": 31,
   "metadata": {},
   "outputs": [
    {
     "data": {
      "text/plain": [
       "{'Elon': 50, 'Bezos': 60, 'Bill': 75}"
      ]
     },
     "execution_count": 31,
     "metadata": {},
     "output_type": "execute_result"
    }
   ],
   "source": [
    "#remove a key from the dictionary\n",
    "table.pop('Mark')\n",
    "table"
   ]
  },
  {
   "cell_type": "markdown",
   "metadata": {},
   "source": [
    "    "
   ]
  },
  {
   "cell_type": "markdown",
   "metadata": {},
   "source": [
    "**`dict.clear()`**<br>\n",
    "This method empties the entire dictionary"
   ]
  },
  {
   "cell_type": "code",
   "execution_count": 32,
   "metadata": {},
   "outputs": [
    {
     "data": {
      "text/plain": [
       "{}"
      ]
     },
     "execution_count": 32,
     "metadata": {},
     "output_type": "execute_result"
    }
   ],
   "source": [
    "#clear the dictionary\n",
    "table.clear()\n",
    "table"
   ]
  },
  {
   "cell_type": "markdown",
   "metadata": {},
   "source": [
    "    "
   ]
  },
  {
   "cell_type": "markdown",
   "metadata": {},
   "source": [
    "<a id=\"sets\"> </a>\n",
    "## <span style=\"color:darkolivegreen\">**4. Introduction to Sets**</span>"
   ]
  },
  {
   "cell_type": "markdown",
   "metadata": {},
   "source": [
    "### Creating a Set\n",
    "In Python sets are written with curly `{}`brackets "
   ]
  },
  {
   "cell_type": "code",
   "execution_count": 35,
   "metadata": {},
   "outputs": [
    {
     "data": {
      "text/plain": [
       "{1, 2, 3}"
      ]
     },
     "execution_count": 35,
     "metadata": {},
     "output_type": "execute_result"
    }
   ],
   "source": [
    "# create a set\n",
    "s = {1,2,3,3,2,3,2,1,2,3,2,1}\n",
    "s"
   ]
  },
  {
   "cell_type": "code",
   "execution_count": 34,
   "metadata": {},
   "outputs": [
    {
     "data": {
      "text/plain": [
       "set"
      ]
     },
     "execution_count": 34,
     "metadata": {},
     "output_type": "execute_result"
    }
   ],
   "source": [
    "type(s)"
   ]
  },
  {
   "cell_type": "markdown",
   "metadata": {},
   "source": [
    "    "
   ]
  },
  {
   "cell_type": "markdown",
   "metadata": {},
   "source": [
    "**Try it yourself.**\n",
    "\n",
    "Python has the following methods that you can use on sets:<br>\n",
    "\n",
    "`add()`<br>\n",
    "`update()`<br>\n",
    "`len()`<br>\n",
    "`pop()`<br>"
   ]
  },
  {
   "cell_type": "code",
   "execution_count": 39,
   "metadata": {},
   "outputs": [
    {
     "data": {
      "text/plain": [
       "{1, 2, 3}"
      ]
     },
     "execution_count": 39,
     "metadata": {},
     "output_type": "execute_result"
    }
   ],
   "source": [
    "s\n"
   ]
  },
  {
   "cell_type": "code",
   "execution_count": null,
   "metadata": {},
   "outputs": [],
   "source": []
  }
 ],
 "metadata": {
  "colab": {
   "name": "Python Intro 2.ipynb",
   "provenance": []
  },
  "kernelspec": {
   "display_name": "Python 3 (ipykernel)",
   "language": "python",
   "name": "python3"
  },
  "language_info": {
   "codemirror_mode": {
    "name": "ipython",
    "version": 3
   },
   "file_extension": ".py",
   "mimetype": "text/x-python",
   "name": "python",
   "nbconvert_exporter": "python",
   "pygments_lexer": "ipython3",
   "version": "3.9.13"
  }
 },
 "nbformat": 4,
 "nbformat_minor": 1
}
